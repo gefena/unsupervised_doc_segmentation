{
 "cells": [
  {
   "cell_type": "markdown",
   "metadata": {},
   "source": [
    "# Segment documents using (unsupervised) clustering\n",
    "- We use emails as data"
   ]
  },
  {
   "cell_type": "code",
   "execution_count": 1,
   "metadata": {},
   "outputs": [],
   "source": [
    "# Installs\n",
    "# python3 -m pip install Pillow\n",
    "#! python3 -m pip install matplotlib -U\n",
    "#! pip install matplotlib==3.1.3"
   ]
  },
  {
   "cell_type": "markdown",
   "metadata": {},
   "source": [
    "# Full open dataset for Enron emails link"
   ]
  },
  {
   "cell_type": "code",
   "execution_count": 2,
   "metadata": {},
   "outputs": [],
   "source": [
    "# Download open email dataset from: http://www.cs.cmu.edu/~enron/\n",
    "#! wget http://www.cs.cmu.edu/~enron/enron_mail_20150507.tar.gz"
   ]
  },
  {
   "cell_type": "markdown",
   "metadata": {},
   "source": [
    "# Imports"
   ]
  },
  {
   "cell_type": "code",
   "execution_count": 3,
   "metadata": {},
   "outputs": [],
   "source": [
    "import yaml\n",
    "import pandas as pd\n",
    "import numpy as np\n",
    "\n",
    "from PIL import Image\n",
    "\n",
    "from sklearn.cluster import DBSCAN\n",
    "from sklearn import metrics\n",
    "from sklearn.datasets import make_blobs\n",
    "from sklearn.preprocessing import StandardScaler\n",
    "from sklearn.cluster import KMeans\n",
    "\n",
    "from matplotlib import pyplot as plt\n",
    "\n",
    "%matplotlib inline "
   ]
  },
  {
   "cell_type": "markdown",
   "metadata": {},
   "source": [
    "# Load sample data"
   ]
  },
  {
   "cell_type": "code",
   "execution_count": 4,
   "metadata": {},
   "outputs": [
    {
     "name": "stdout",
     "output_type": "stream",
     "text": [
      "\n",
      "From: Greg_Hathaway@dom.com [mailto:Greg_Hathaway@dom.com]\n",
      "Sent: Tuesday, September 18, 2001 10:09 AM\n",
      "To: Williams, Jo; Miller, Kent; Mercaldo, Vernon\n",
      "Cc: Gregg_Tyson@dom.com; Hillary_Dryselius@dom.com;\n",
      "Jason_J_Lewis@dom.com; Stacy_Lee@dom.com; Mark_Moyer@dom.com;\n",
      "Brent_Cinnamond@dom.com; MLDotter@aol.com; johnwayneking@aol.com; George\n",
      "Briden; Duane_K._Duclaux@dom.com; Scot_Hathaway@dom.com;\n",
      "Guy_Chapman@dom.com\n",
      "Subject: NNG Letter asking for Written Clarifications\n",
      "\n",
      "\n",
      "\n",
      "\n",
      "Jo, Kent, Vernon:\n",
      "Good morning!  Hope all is going well in Omaha and Houston.  As we discussed at\n",
      "lunch in Kansas City we were going to request some information from you in\n",
      "writing and to that extent please see the attached file.(See attached file:\n",
      "Northern Letter asking for clarification.doc)\n",
      "\n",
      "\n",
      "\n",
      "Greg Hathaway\n",
      "804.273.4421\n",
      "Virginia Power Energy Marketing (VPEM)\n",
      "5000 Dominion Blvd.\n",
      "Glen Allen, Virginia 23060\n",
      "Innsbrook 3rd Floor\n",
      "\n"
     ]
    }
   ],
   "source": [
    "import yaml\n",
    "\n",
    "with open('enron_email_sample.yaml') as file:\n",
    "    email_list = yaml.load(file, Loader=yaml.FullLoader)\n",
    "    print(email_list['1'])"
   ]
  },
  {
   "cell_type": "markdown",
   "metadata": {},
   "source": [
    "# Choose one doc"
   ]
  },
  {
   "cell_type": "code",
   "execution_count": 5,
   "metadata": {},
   "outputs": [
    {
     "name": "stdout",
     "output_type": "stream",
     "text": [
      "\n",
      "From: Mercaldo,Vernon<Vernon.Mercaldo@enron.com>\n",
      "Sent: 11/01/01 12:47 PM\n",
      "To: Greg Hathaway/WP/VANCPOWER@VANCPOWER\n",
      "\"Blair, Lynn\" <Lynn.Blair@enron.com>, \"Kowalke, Terry\"\n",
      "<Terry.Kowalke@enron.com>, \"Medeles, Gerry\"\n",
      "<Gerry.Medeles@enron.com>, \"Williams, Jo\" <Jo.Williams@enron.com>,\n",
      "\"Buchanan, John\" <John.Buchanan@enron.com>\n",
      "Subject: Demarc Allocation Conference Cal\n",
      "\n",
      "\n",
      "\n",
      "Greg,\n",
      "\n",
      "Looks like 2:00 CST (3:00 EST) on Tuesday, November 6 is good from this\n",
      "side.  Let me know if this is good from your side and we will schedule\n",
      "accordingly.\n",
      "\n",
      "Thanks!\n",
      "Vernon\n",
      "\n",
      "\n",
      "**********************************************************************\n",
      "This e-mail is the property of Enron Corp. and/or its relevant affiliate and may\n",
      "contain confidential and privileged material for the sole use of the intended\n",
      "recipient (s). Any review, use, distribution or disclosure by others is strictly\n",
      "prohibited. If you are not the intended recipient (or authorized to receive for\n",
      "the recipient), please contact the sender or reply to Enron Corp. at\n",
      "enron.messaging.administration@enron.com and delete all copies of the message.\n",
      "This e-mail (and any attachments hereto) are not intended to be an offer (or an\n",
      "acceptance) and do not create or evidence a binding and enforceable contract\n",
      "between Enron Corp. (or any of its affiliates) and the intended recipient or any\n",
      "other party, and may not be relied on by anyone as the basis of a contract by\n",
      "estoppel or otherwise. Thank you.\n",
      "**********************************************************************\n",
      "\n"
     ]
    }
   ],
   "source": [
    "email = email_list['3']\n",
    "print(email)"
   ]
  },
  {
   "cell_type": "markdown",
   "metadata": {},
   "source": [
    "# Functions"
   ]
  },
  {
   "cell_type": "code",
   "execution_count": 6,
   "metadata": {},
   "outputs": [],
   "source": [
    "# clean mails from windows - substitute \\r\\n to \\n \n",
    "def clean_doc(doc):\n",
    "    newdoc = doc.replace(\"\\r\\n\", \"\\n\")\n",
    "    return(newdoc)\n",
    "\n",
    "\n",
    "def generate_doc_for_view(doc):\n",
    "    # doc to rows\n",
    "    doc_rows = doc.split(\"\\n\")\n",
    "    doc_structure = []\n",
    "\n",
    "    for i in range(len(doc_rows)):\n",
    "        row = doc_rows[i]\n",
    "        print(i, row)\n",
    "        doc_structure.append(str(i)+\": \"+ row)\n",
    "    return(doc_structure)  \n",
    "\n",
    "\n",
    "def generate_doc_letter_features(doc):\n",
    "    doc_rows = doc.split(\"\\n\")\n",
    "    rows_dict = dict()\n",
    "    doc_letter_features = []\n",
    "    letter_to_row = dict()\n",
    "    counter = -1\n",
    "    for i in range(len(doc_rows)):\n",
    "        row = doc_rows[i].rstrip()\n",
    "        rows_dict[i] = len(row)\n",
    "\n",
    "        for j in range(len(row)):\n",
    "            counter+=1\n",
    "            letter_features = (i,j)\n",
    "            doc_letter_features.append(letter_features)\n",
    "            letter_to_row[counter] = i\n",
    "    \n",
    "    print(len(doc_letter_features))        \n",
    "    return(doc_letter_features, letter_to_row)    \n",
    "\n",
    "\n",
    "def view_doc_as_image(X):\n",
    "    max_rows = X[:,0].max() + 1\n",
    "    max_columns = X[:,1].max() + 1\n",
    "    w, h = max_columns, max_rows\n",
    "    data = np.zeros((h, w, 3), dtype=np.uint8)\n",
    "    for pix in mail_letter_features:  \n",
    "        data[pix[0], pix[1]] = [255, 0, 0] # red patch in upper left\n",
    "    img = Image.fromarray(data, 'RGB')\n",
    "    #img.save('my.png')\n",
    "    #img.show()\n",
    "\n",
    "    fig= plt.figure(figsize=(18,6))\n",
    "    plt.imshow(data, interpolation='nearest')\n",
    "    plt.show()\n",
    "    \n",
    "def show_doc_with_row_labels(labels, doc_structure):\n",
    "    labels_with_row = []\n",
    "    for i in range(labels.shape[0]):\n",
    "        labels_with_row.append( (labels[i],letter_to_row[i]) ) \n",
    "    \n",
    "    cluster_to_row_array = pd.DataFrame(labels_with_row).drop_duplicates().values\n",
    "    cluster_to_row_dict = dict()\n",
    "    for p in cluster_to_row_array:\n",
    "        cluster_label = p[0]\n",
    "        row_label = p[1]\n",
    "        cluster_to_row_dict[row_label] = cluster_label\n",
    "\n",
    "    for i in range(len(doc_structure)):\n",
    "        if i in cluster_to_row_dict:\n",
    "            print(cluster_to_row_dict[i], doc_structure[i])\n",
    "        else:\n",
    "            print(\"-\", doc_structure[i])    "
   ]
  },
  {
   "cell_type": "markdown",
   "metadata": {},
   "source": [
    "# Generate mail data set"
   ]
  },
  {
   "cell_type": "code",
   "execution_count": 7,
   "metadata": {},
   "outputs": [
    {
     "data": {
      "text/plain": [
       "'\\nFrom: Mercaldo,Vernon<Vernon.Mercaldo@enron.com>\\nSent: 11/01/01 12:47 PM\\nTo: Greg Hathaway/WP/VANCPOWER@VANCPOWER\\n\"Blair, Lynn\" <Lynn.Blair@enron.com>, \"Kowalke, Terry\"\\n<Terry.Kowalke@enron.com>, \"Medeles, Gerry\"\\n<Gerry.Medeles@enron.com>, \"Williams, Jo\" <Jo.Williams@enron.com>,\\n\"Buchanan, John\" <John.Buchanan@enron.com>\\nSubject: Demarc Allocation Conference Cal\\n\\n\\n\\nGreg,\\n\\nLooks like 2:00 CST (3:00 EST) on Tuesday, November 6 is good from this\\nside.  Let me know if this is good from your side and we will schedule\\naccordingly.\\n\\nThanks!\\nVernon\\n\\n\\n**********************************************************************\\nThis e-mail is the property of Enron Corp. and/or its relevant affiliate and may\\ncontain confidential and privileged material for the sole use of the intended\\nrecipient (s). Any review, use, distribution or disclosure by others is strictly\\nprohibited. If you are not the intended recipient (or authorized to receive for\\nthe recipient), please contact the sender or reply to Enron Corp. at\\nenron.messaging.administration@enron.com and delete all copies of the message.\\nThis e-mail (and any attachments hereto) are not intended to be an offer (or an\\nacceptance) and do not create or evidence a binding and enforceable contract\\nbetween Enron Corp. (or any of its affiliates) and the intended recipient or any\\nother party, and may not be relied on by anyone as the basis of a contract by\\nestoppel or otherwise. Thank you.\\n**********************************************************************\\n'"
      ]
     },
     "execution_count": 7,
     "metadata": {},
     "output_type": "execute_result"
    }
   ],
   "source": [
    "remail = clean_doc(email)\n",
    "remail"
   ]
  },
  {
   "cell_type": "code",
   "execution_count": 8,
   "metadata": {},
   "outputs": [
    {
     "name": "stdout",
     "output_type": "stream",
     "text": [
      "0 \n",
      "1 From: Mercaldo,Vernon<Vernon.Mercaldo@enron.com>\n",
      "2 Sent: 11/01/01 12:47 PM\n",
      "3 To: Greg Hathaway/WP/VANCPOWER@VANCPOWER\n",
      "4 \"Blair, Lynn\" <Lynn.Blair@enron.com>, \"Kowalke, Terry\"\n",
      "5 <Terry.Kowalke@enron.com>, \"Medeles, Gerry\"\n",
      "6 <Gerry.Medeles@enron.com>, \"Williams, Jo\" <Jo.Williams@enron.com>,\n",
      "7 \"Buchanan, John\" <John.Buchanan@enron.com>\n",
      "8 Subject: Demarc Allocation Conference Cal\n",
      "9 \n",
      "10 \n",
      "11 \n",
      "12 Greg,\n",
      "13 \n",
      "14 Looks like 2:00 CST (3:00 EST) on Tuesday, November 6 is good from this\n",
      "15 side.  Let me know if this is good from your side and we will schedule\n",
      "16 accordingly.\n",
      "17 \n",
      "18 Thanks!\n",
      "19 Vernon\n",
      "20 \n",
      "21 \n",
      "22 **********************************************************************\n",
      "23 This e-mail is the property of Enron Corp. and/or its relevant affiliate and may\n",
      "24 contain confidential and privileged material for the sole use of the intended\n",
      "25 recipient (s). Any review, use, distribution or disclosure by others is strictly\n",
      "26 prohibited. If you are not the intended recipient (or authorized to receive for\n",
      "27 the recipient), please contact the sender or reply to Enron Corp. at\n",
      "28 enron.messaging.administration@enron.com and delete all copies of the message.\n",
      "29 This e-mail (and any attachments hereto) are not intended to be an offer (or an\n",
      "30 acceptance) and do not create or evidence a binding and enforceable contract\n",
      "31 between Enron Corp. (or any of its affiliates) and the intended recipient or any\n",
      "32 other party, and may not be relied on by anyone as the basis of a contract by\n",
      "33 estoppel or otherwise. Thank you.\n",
      "34 **********************************************************************\n",
      "35 \n"
     ]
    }
   ],
   "source": [
    "email_structure = generate_doc_for_view(remail)"
   ]
  },
  {
   "cell_type": "code",
   "execution_count": 9,
   "metadata": {},
   "outputs": [
    {
     "name": "stdout",
     "output_type": "stream",
     "text": [
      "1475\n"
     ]
    },
    {
     "data": {
      "text/plain": [
       "[(1, 0),\n",
       " (1, 1),\n",
       " (1, 2),\n",
       " (1, 3),\n",
       " (1, 4),\n",
       " (1, 5),\n",
       " (1, 6),\n",
       " (1, 7),\n",
       " (1, 8),\n",
       " (1, 9)]"
      ]
     },
     "execution_count": 9,
     "metadata": {},
     "output_type": "execute_result"
    }
   ],
   "source": [
    "mail_letter_features, letter_to_row = generate_doc_letter_features(remail)\n",
    "mail_letter_features[:10]"
   ]
  },
  {
   "cell_type": "markdown",
   "metadata": {},
   "source": [
    "# Prepare data for clustering"
   ]
  },
  {
   "cell_type": "code",
   "execution_count": 10,
   "metadata": {},
   "outputs": [],
   "source": [
    "X = np.asarray(mail_letter_features)"
   ]
  },
  {
   "cell_type": "code",
   "execution_count": 11,
   "metadata": {},
   "outputs": [
    {
     "data": {
      "image/png": "[encoded data removed]",
      "text/plain": [
       "<Figure size 1296x432 with 1 Axes>"
      ]
     },
     "metadata": {
      "needs_background": "light"
     },
     "output_type": "display_data"
    }
   ],
   "source": [
    "view_doc_as_image(X)"
   ]
  },
  {
   "cell_type": "markdown",
   "metadata": {},
   "source": [
    "# Clustering"
   ]
  },
  {
   "cell_type": "code",
   "execution_count": 13,
   "metadata": {},
   "outputs": [
    {
     "name": "stdout",
     "output_type": "stream",
     "text": [
      "35 80\n"
     ]
    }
   ],
   "source": [
    "max_rows = X[:,0].max() + 1\n",
    "max_columns = X[:,1].max() + 1\n",
    "print(max_rows, max_columns)"
   ]
  },
  {
   "cell_type": "code",
   "execution_count": 14,
   "metadata": {},
   "outputs": [],
   "source": [
    "# scaling the column axis\n",
    "X[:,1] = X[:,1] / max_columns"
   ]
  },
  {
   "cell_type": "markdown",
   "metadata": {},
   "source": [
    "## Kmeans"
   ]
  },
  {
   "cell_type": "code",
   "execution_count": 15,
   "metadata": {},
   "outputs": [
    {
     "name": "stdout",
     "output_type": "stream",
     "text": [
      "[[27.75712777  0.        ]\n",
      " [ 4.65826331  0.        ]\n",
      " [14.83040936  0.        ]]\n"
     ]
    }
   ],
   "source": [
    "kmeans = KMeans(n_clusters=3, random_state=0).fit(X)\n",
    "print(kmeans.cluster_centers_)\n",
    "labels = kmeans.labels_"
   ]
  },
  {
   "cell_type": "code",
   "execution_count": 16,
   "metadata": {},
   "outputs": [
    {
     "name": "stdout",
     "output_type": "stream",
     "text": [
      "- 0: \n",
      "1 1: From: Mercaldo,Vernon<Vernon.Mercaldo@enron.com>\n",
      "1 2: Sent: 11/01/01 12:47 PM\n",
      "1 3: To: Greg Hathaway/WP/VANCPOWER@VANCPOWER\n",
      "1 4: \"Blair, Lynn\" <Lynn.Blair@enron.com>, \"Kowalke, Terry\"\n",
      "1 5: <Terry.Kowalke@enron.com>, \"Medeles, Gerry\"\n",
      "1 6: <Gerry.Medeles@enron.com>, \"Williams, Jo\" <Jo.Williams@enron.com>,\n",
      "1 7: \"Buchanan, John\" <John.Buchanan@enron.com>\n",
      "1 8: Subject: Demarc Allocation Conference Cal\n",
      "- 9: \n",
      "- 10: \n",
      "- 11: \n",
      "2 12: Greg,\n",
      "- 13: \n",
      "2 14: Looks like 2:00 CST (3:00 EST) on Tuesday, November 6 is good from this\n",
      "2 15: side.  Let me know if this is good from your side and we will schedule\n",
      "2 16: accordingly.\n",
      "- 17: \n",
      "2 18: Thanks!\n",
      "2 19: Vernon\n",
      "- 20: \n",
      "- 21: \n",
      "0 22: **********************************************************************\n",
      "0 23: This e-mail is the property of Enron Corp. and/or its relevant affiliate and may\n",
      "0 24: contain confidential and privileged material for the sole use of the intended\n",
      "0 25: recipient (s). Any review, use, distribution or disclosure by others is strictly\n",
      "0 26: prohibited. If you are not the intended recipient (or authorized to receive for\n",
      "0 27: the recipient), please contact the sender or reply to Enron Corp. at\n",
      "0 28: enron.messaging.administration@enron.com and delete all copies of the message.\n",
      "0 29: This e-mail (and any attachments hereto) are not intended to be an offer (or an\n",
      "0 30: acceptance) and do not create or evidence a binding and enforceable contract\n",
      "0 31: between Enron Corp. (or any of its affiliates) and the intended recipient or any\n",
      "0 32: other party, and may not be relied on by anyone as the basis of a contract by\n",
      "0 33: estoppel or otherwise. Thank you.\n",
      "0 34: **********************************************************************\n",
      "- 35: \n"
     ]
    }
   ],
   "source": [
    "show_doc_with_row_labels(labels, email_structure)"
   ]
  },
  {
   "cell_type": "markdown",
   "metadata": {},
   "source": [
    "## DBSCAN with search on eps"
   ]
  },
  {
   "cell_type": "code",
   "execution_count": 17,
   "metadata": {},
   "outputs": [
    {
     "name": "stdout",
     "output_type": "stream",
     "text": [
      "best eps found: 2\n",
      "Estimated number of clusters: 3\n",
      "Estimated number of noise points: 6\n"
     ]
    }
   ],
   "source": [
    "eps_list = {2,3,4}\n",
    "min_clusters = 3\n",
    "for current_eps in eps_list:\n",
    "    db = DBSCAN(eps=current_eps, min_samples=30).fit(X)\n",
    "    core_samples_mask = np.zeros_like(db.labels_, dtype=bool)\n",
    "    core_samples_mask[db.core_sample_indices_] = True\n",
    "    labels = db.labels_\n",
    "\n",
    "    # Number of clusters in labels, ignoring noise if present.\n",
    "    n_clusters_ = len(set(labels)) - (1 if -1 in labels else 0)\n",
    "    n_noise_ = list(labels).count(-1)\n",
    "    if n_clusters_ >= min_clusters:\n",
    "        print(\"best eps found:\", current_eps)\n",
    "        break\n",
    "\n",
    "print('Estimated number of clusters: %d' % n_clusters_)\n",
    "print('Estimated number of noise points: %d' % n_noise_)"
   ]
  },
  {
   "cell_type": "code",
   "execution_count": 18,
   "metadata": {},
   "outputs": [
    {
     "name": "stdout",
     "output_type": "stream",
     "text": [
      "- 0: \n",
      "0 1: From: Mercaldo,Vernon<Vernon.Mercaldo@enron.com>\n",
      "0 2: Sent: 11/01/01 12:47 PM\n",
      "0 3: To: Greg Hathaway/WP/VANCPOWER@VANCPOWER\n",
      "0 4: \"Blair, Lynn\" <Lynn.Blair@enron.com>, \"Kowalke, Terry\"\n",
      "0 5: <Terry.Kowalke@enron.com>, \"Medeles, Gerry\"\n",
      "0 6: <Gerry.Medeles@enron.com>, \"Williams, Jo\" <Jo.Williams@enron.com>,\n",
      "0 7: \"Buchanan, John\" <John.Buchanan@enron.com>\n",
      "0 8: Subject: Demarc Allocation Conference Cal\n",
      "- 9: \n",
      "- 10: \n",
      "- 11: \n",
      "1 12: Greg,\n",
      "- 13: \n",
      "1 14: Looks like 2:00 CST (3:00 EST) on Tuesday, November 6 is good from this\n",
      "1 15: side.  Let me know if this is good from your side and we will schedule\n",
      "1 16: accordingly.\n",
      "- 17: \n",
      "1 18: Thanks!\n",
      "-1 19: Vernon\n",
      "- 20: \n",
      "- 21: \n",
      "2 22: **********************************************************************\n",
      "2 23: This e-mail is the property of Enron Corp. and/or its relevant affiliate and may\n",
      "2 24: contain confidential and privileged material for the sole use of the intended\n",
      "2 25: recipient (s). Any review, use, distribution or disclosure by others is strictly\n",
      "2 26: prohibited. If you are not the intended recipient (or authorized to receive for\n",
      "2 27: the recipient), please contact the sender or reply to Enron Corp. at\n",
      "2 28: enron.messaging.administration@enron.com and delete all copies of the message.\n",
      "2 29: This e-mail (and any attachments hereto) are not intended to be an offer (or an\n",
      "2 30: acceptance) and do not create or evidence a binding and enforceable contract\n",
      "2 31: between Enron Corp. (or any of its affiliates) and the intended recipient or any\n",
      "2 32: other party, and may not be relied on by anyone as the basis of a contract by\n",
      "2 33: estoppel or otherwise. Thank you.\n",
      "2 34: **********************************************************************\n",
      "- 35: \n"
     ]
    }
   ],
   "source": [
    "show_doc_with_row_labels(labels, email_structure)        "
   ]
  },
  {
   "cell_type": "code",
   "execution_count": null,
   "metadata": {},
   "outputs": [],
   "source": []
  },
  {
   "cell_type": "code",
   "execution_count": null,
   "metadata": {},
   "outputs": [],
   "source": []
  }
 ],
 "metadata": {
  "kernelspec": {
   "display_name": "Python 3",
   "language": "python",
   "name": "python3"
  },
  "language_info": {
   "codemirror_mode": {
    "name": "ipython",
    "version": 3
   },
   "file_extension": ".py",
   "mimetype": "text/x-python",
   "name": "python",
   "nbconvert_exporter": "python",
   "pygments_lexer": "ipython3",
   "version": "3.6.5"
  }
 },
 "nbformat": 4,
 "nbformat_minor": 4
}
